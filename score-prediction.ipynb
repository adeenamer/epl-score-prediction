{
  "cells": [
    {
      "attachments": {},
      "cell_type": "markdown",
      "metadata": {},
      "source": [
        "# EPL Matches Score Prediction"
      ]
    },
    {
      "attachments": {},
      "cell_type": "markdown",
      "metadata": {},
      "source": [
        "## Imports and Reading"
      ]
    },
    {
      "cell_type": "code",
      "execution_count": 264,
      "metadata": {
        "id": "KU6ozUnVIuFq"
      },
      "outputs": [],
      "source": [
        "import pandas as pd\n",
        "import numpy as np\n",
        "import seaborn as sns\n",
        "from sklearn.neighbors import KNeighborsClassifier\n",
        "from sklearn.linear_model import LogisticRegression\n",
        "from sklearn import metrics\n",
        "from sklearn.model_selection import train_test_split\n",
        "from sklearn.linear_model import LogisticRegression\n",
        "from sklearn.naive_bayes import MultinomialNB\n",
        "from sklearn.model_selection import GridSearchCV\n",
        "from sklearn import svm\n",
        "from sklearn import neural_network"
      ]
    },
    {
      "cell_type": "code",
      "execution_count": 265,
      "metadata": {
        "id": "mFcuWvbYXayE"
      },
      "outputs": [],
      "source": [
        "df_2009_10 = pd.read_csv('2009-10.csv')\n",
        "df_2010_11=pd.read_csv(\"2010-11.csv\")\n",
        "df_2011_12=pd.read_csv(\"2011-12.csv\")\n",
        "df_2012_13=pd.read_csv(\"2012-13.csv\")\n",
        "df_2013_14=pd.read_csv(\"2013-14.csv\")\n",
        "df_2014_15=pd.read_csv(\"2014-15.csv\")\n",
        "df_2015_16=pd.read_csv(\"2015-16.csv\")\n",
        "df_2016_17=pd.read_csv(\"2016-17.csv\")\n",
        "df_2017_18=pd.read_csv(\"2017-18.csv\")\n",
        "df_2018_19=pd.read_csv(\"2018-19.csv\")\n",
        "df_2019_20=pd.read_csv(\"2019-20.csv\")"
      ]
    },
    {
      "attachments": {},
      "cell_type": "markdown",
      "metadata": {
        "id": "qFwZGfsxIuFu"
      },
      "source": [
        "## B365"
      ]
    },
    {
      "cell_type": "code",
      "execution_count": 266,
      "metadata": {
        "id": "OH24g2ENIuFv"
      },
      "outputs": [],
      "source": [
        "def bet365(df):\n",
        "    B365=df[['B365H','B365A',\"B365D\"]]\n",
        "    return B365"
      ]
    },
    {
      "cell_type": "code",
      "execution_count": 267,
      "metadata": {
        "id": "ohiElXXmIuFv"
      },
      "outputs": [],
      "source": [
        "bet365_2009_10=bet365(df_2009_10)\n",
        "bet365_2010_11=bet365(df_2010_11)\n",
        "bet365_2011_12=bet365(df_2011_12)\n",
        "bet365_2012_13=bet365(df_2012_13)\n",
        "bet365_2013_14=bet365(df_2013_14)\n",
        "bet365_2014_15=bet365(df_2014_15)\n",
        "bet365_2015_16=bet365(df_2015_16)\n",
        "bet365_2016_17=bet365(df_2016_17)\n",
        "bet365_2017_18=bet365(df_2017_18)\n",
        "bet365_2018_19=bet365(df_2018_19)\n",
        "bet365_2019_20=bet365(df_2019_20)"
      ]
    },
    {
      "attachments": {},
      "cell_type": "markdown",
      "metadata": {
        "id": "0mT3xpD-IuFw"
      },
      "source": [
        "## Goals scored"
      ]
    },
    {
      "cell_type": "code",
      "execution_count": 269,
      "metadata": {
        "id": "nN32BYjkIuFx"
      },
      "outputs": [],
      "source": [
        "def home_away_goals(df):    \n",
        "    home_points=np.zeros(df.shape[0])\n",
        "    away_points=np.zeros(df.shape[0])\n",
        "    for i in df.index:\n",
        "        home_team=df.loc[i,\"HomeTeam\"]\n",
        "        away_team=df.loc[i,\"AwayTeam\"]\n",
        "        temp1=df.groupby([\"AwayTeam\"]).get_group((f\"{home_team}\"))[\"FTAG\"]\n",
        "        temp2=df.groupby([\"HomeTeam\"]).get_group((f\"{home_team}\"))[\"FTHG\"]\n",
        "        temp3=pd.concat([temp1,temp2]).sort_index()\n",
        "        temp4=temp3.loc[temp3.index[0]:i]\n",
        "        temp5=temp4.loc[temp4.index[0]:temp4.index[len(temp4)-2]]\n",
        "        if len(temp5)==1:\n",
        "            home_points[i]=0\n",
        "        else:\n",
        "            home_points[i]=temp5.sum()\n",
        "        temp5=df.groupby([\"AwayTeam\"]).get_group((f\"{away_team}\"))[\"FTAG\"]\n",
        "        temp6=df.groupby([\"HomeTeam\"]).get_group((f\"{away_team}\"))[\"FTHG\"]\n",
        "        temp7=pd.concat([temp5,temp6]).sort_index()\n",
        "        temp8=temp7.loc[temp7.index[0]:i]\n",
        "        temp9=temp8.loc[temp8.index[0]:temp8.index[len(temp8)-2]]\n",
        "        if len(temp9)==1:\n",
        "            away_points[i]=0\n",
        "        else:\n",
        "            away_points[i]=temp9.sum()\n",
        "    return pd.DataFrame({\"home goal scored\":home_points,\"away goal scored\":away_points})"
      ]
    },
    {
      "cell_type": "code",
      "execution_count": 270,
      "metadata": {
        "id": "QnqWHeK2IuFx"
      },
      "outputs": [],
      "source": [
        "home_away_goals_2009_10=home_away_goals(df_2009_10)\n",
        "home_away_goals_2010_11=home_away_goals(df_2010_11)\n",
        "home_away_goals_2011_12=home_away_goals(df_2011_12)\n",
        "home_away_goals_2012_13=home_away_goals(df_2012_13)\n",
        "home_away_goals_2013_14=home_away_goals(df_2013_14)\n",
        "home_away_goals_2014_15=home_away_goals(df_2014_15)\n",
        "home_away_goals_2015_16=home_away_goals(df_2015_16)\n",
        "home_away_goals_2016_17=home_away_goals(df_2016_17)\n",
        "home_away_goals_2017_18=home_away_goals(df_2017_18)\n",
        "home_away_goals_2018_19=home_away_goals(df_2018_19)\n",
        "home_away_goals_2019_20=home_away_goals(df_2019_20)"
      ]
    },
    {
      "attachments": {},
      "cell_type": "markdown",
      "metadata": {
        "id": "IqVWxUueIuFx"
      },
      "source": [
        "## Form"
      ]
    },
    {
      "cell_type": "code",
      "execution_count": 272,
      "metadata": {
        "id": "MUD3mn58IuFy"
      },
      "outputs": [],
      "source": [
        "def form(df):    \n",
        "    home_form=np.zeros(df.shape[0])\n",
        "    away_form=np.zeros(df.shape[0])\n",
        "    for i in df.index:\n",
        "        home_team=df.loc[i,\"HomeTeam\"]\n",
        "        away_team=df.loc[i,\"AwayTeam\"]\n",
        "        temp1=df.groupby([\"AwayTeam\"]).get_group((f\"{home_team}\"))[\"FTR\"].replace({\"H\":0,\"A\":3,\"D\":1})\n",
        "        temp2=df.groupby([\"HomeTeam\"]).get_group((f\"{home_team}\"))[\"FTR\"].replace({\"H\":3,\"A\":0,\"D\":1})\n",
        "        temp3=pd.concat([temp1,temp2]).sort_index()\n",
        "        temp4=temp3.loc[temp3.index[0]:i]\n",
        "        if len(temp4)==1:\n",
        "            home_form[i]=0\n",
        "        elif len(temp4)<=5:\n",
        "            home_form[i]=temp4.loc[temp4.index[0]:temp4.index[len(temp4)-2]].sum()\n",
        "        else:\n",
        "            last_5_home=temp4.tail(6)\n",
        "            home_form[i]=last_5_home.loc[last_5_home.index[0]:last_5_home.index[4]].sum()\n",
        "        temp5=df.groupby([\"AwayTeam\"]).get_group((f\"{away_team}\"))[\"FTR\"].replace({\"H\":0,\"A\":3,\"D\":1})\n",
        "        temp6=df.groupby([\"HomeTeam\"]).get_group((f\"{away_team}\"))[\"FTR\"].replace({\"H\":3,\"A\":0,\"D\":1})\n",
        "        temp7=pd.concat([temp5,temp6]).sort_index()\n",
        "        temp8=temp7.loc[temp7.index[0]:i]\n",
        "        if len(temp8)==1:\n",
        "            away_form[i]=0\n",
        "        elif len(temp8)<=5:\n",
        "            away_form[i]=temp8.loc[temp8.index[0]:temp8.index[len(temp8)-2]].sum()\n",
        "        else:\n",
        "            last_5_away=temp8.tail(6)\n",
        "            away_form[i]=last_5_away.loc[last_5_away.index[0]:last_5_away.index[4]].sum()\n",
        "    return pd.DataFrame({\"home form\":home_form,\"away form\":away_form})"
      ]
    },
    {
      "cell_type": "code",
      "execution_count": 273,
      "metadata": {
        "id": "nCpjm_BVIuFz"
      },
      "outputs": [],
      "source": [
        "form_2009_10=form(df_2009_10)\n",
        "form_2010_11=form(df_2010_11)\n",
        "form_2011_12=form(df_2011_12)\n",
        "form_2012_13=form(df_2012_13)\n",
        "form_2013_14=form(df_2013_14)\n",
        "form_2014_15=form(df_2014_15)\n",
        "form_2015_16=form(df_2015_16)\n",
        "form_2016_17=form(df_2016_17)\n",
        "form_2017_18=form(df_2017_18)\n",
        "form_2018_19=form(df_2018_19)\n",
        "form_2019_20=form(df_2019_20)"
      ]
    },
    {
      "attachments": {},
      "cell_type": "markdown",
      "metadata": {
        "id": "rOeUzRL4IuFz"
      },
      "source": [
        "## Points"
      ]
    },
    {
      "cell_type": "code",
      "execution_count": 275,
      "metadata": {
        "id": "EYZDFN__IuF0"
      },
      "outputs": [],
      "source": [
        "def points(df):    \n",
        "    home_points=np.zeros(df.shape[0])\n",
        "    away_points=np.zeros(df.shape[0])\n",
        "    for i in df.index:\n",
        "        home_team=df.loc[i,\"HomeTeam\"]\n",
        "        away_team=df.loc[i,\"AwayTeam\"]\n",
        "        temp1=df.groupby([\"AwayTeam\"]).get_group((f\"{home_team}\"))[\"FTR\"].replace({\"H\":0,\"A\":3,\"D\":1})\n",
        "        temp2=df.groupby([\"HomeTeam\"]).get_group((f\"{home_team}\"))[\"FTR\"].replace({\"H\":3,\"A\":0,\"D\":1})\n",
        "        temp3=pd.concat([temp1,temp2]).sort_index()\n",
        "        temp4=temp3.loc[temp3.index[0]:i]\n",
        "        temp5=temp4.loc[temp4.index[0]:temp4.index[len(temp4)-2]]\n",
        "        if len(temp5)==1:\n",
        "            home_points[i]=0\n",
        "        else:\n",
        "            home_points[i]=temp5.sum()\n",
        "        temp5=df.groupby([\"AwayTeam\"]).get_group((f\"{away_team}\"))[\"FTR\"].replace({\"H\":0,\"A\":3,\"D\":1})\n",
        "        temp6=df.groupby([\"HomeTeam\"]).get_group((f\"{away_team}\"))[\"FTR\"].replace({\"H\":3,\"A\":0,\"D\":1})\n",
        "        temp7=pd.concat([temp5,temp6]).sort_index()\n",
        "        temp8=temp7.loc[temp7.index[0]:i]\n",
        "        temp9=temp8.loc[temp8.index[0]:temp8.index[len(temp8)-2]]\n",
        "        if len(temp9)==1:\n",
        "            away_points[i]=0\n",
        "        else:\n",
        "            away_points[i]=temp9.sum()\n",
        "    return pd.DataFrame({\"home points\":home_points,\"away points\":away_points})"
      ]
    },
    {
      "cell_type": "code",
      "execution_count": 276,
      "metadata": {
        "id": "PWs6EB0wIuF0"
      },
      "outputs": [],
      "source": [
        "points_2009_10=points(df_2009_10)\n",
        "points_2010_11=points(df_2010_11)\n",
        "points_2011_12=points(df_2011_12)\n",
        "points_2012_13=points(df_2012_13)\n",
        "points_2013_14=points(df_2013_14)\n",
        "points_2014_15=points(df_2014_15)\n",
        "points_2015_16=points(df_2015_16)\n",
        "points_2016_17=points(df_2016_17)\n",
        "points_2017_18=points(df_2017_18)\n",
        "points_2018_19=points(df_2018_19)\n",
        "points_2019_20=points(df_2019_20)"
      ]
    },
    {
      "attachments": {},
      "cell_type": "markdown",
      "metadata": {
        "id": "lpvMPTBSIuF1"
      },
      "source": [
        "## Goals Conceded"
      ]
    },
    {
      "cell_type": "code",
      "execution_count": 278,
      "metadata": {
        "id": "6Jsk73bRIuF1"
      },
      "outputs": [],
      "source": [
        "def goals_conceded(df):    \n",
        "    home_points=np.zeros(df.shape[0])\n",
        "    away_points=np.zeros(df.shape[0])\n",
        "    for i in df.index:\n",
        "        home_team=df.loc[i,\"HomeTeam\"]\n",
        "        away_team=df.loc[i,\"AwayTeam\"]\n",
        "        temp1=df.groupby([\"AwayTeam\"]).get_group((f\"{home_team}\"))[\"FTHG\"]\n",
        "        temp2=df.groupby([\"HomeTeam\"]).get_group((f\"{home_team}\"))[\"FTAG\"]\n",
        "        temp3=pd.concat([temp1,temp2]).sort_index()\n",
        "        temp4=temp3.loc[temp3.index[0]:i]\n",
        "        temp5=temp4.loc[temp4.index[0]:temp4.index[len(temp4)-2]]\n",
        "        if len(temp5)==1:\n",
        "            home_points[i]=0\n",
        "        else:\n",
        "            home_points[i]=temp5.sum()\n",
        "        temp5=df.groupby([\"AwayTeam\"]).get_group((f\"{away_team}\"))[\"FTHG\"]\n",
        "        temp6=df.groupby([\"HomeTeam\"]).get_group((f\"{away_team}\"))[\"FTAG\"]\n",
        "        temp7=pd.concat([temp5,temp6]).sort_index()\n",
        "        temp8=temp7.loc[temp7.index[0]:i]\n",
        "        temp9=temp8.loc[temp8.index[0]:temp8.index[len(temp8)-2]]\n",
        "        if len(temp9)==1:\n",
        "            away_points[i]=0\n",
        "        else:\n",
        "            away_points[i]=temp9.sum()\n",
        "    return pd.DataFrame({\"home goal conceded\":home_points,\"away goal conceded\":away_points})"
      ]
    },
    {
      "cell_type": "code",
      "execution_count": 279,
      "metadata": {
        "id": "1KFZosFGIuF2"
      },
      "outputs": [],
      "source": [
        "goals_conceded_2009_10=goals_conceded(df_2009_10)\n",
        "goals_conceded_2010_11=goals_conceded(df_2010_11)\n",
        "goals_conceded_2011_12=goals_conceded(df_2011_12)\n",
        "goals_conceded_2012_13=goals_conceded(df_2012_13)\n",
        "goals_conceded_2013_14=goals_conceded(df_2013_14)\n",
        "goals_conceded_2014_15=goals_conceded(df_2014_15)\n",
        "goals_conceded_2015_16=goals_conceded(df_2015_16)\n",
        "goals_conceded_2016_17=goals_conceded(df_2016_17)\n",
        "goals_conceded_2017_18=goals_conceded(df_2017_18)\n",
        "goals_conceded_2018_19=goals_conceded(df_2018_19)\n",
        "goals_conceded_2019_20=goals_conceded(df_2019_20)"
      ]
    },
    {
      "attachments": {},
      "cell_type": "markdown",
      "metadata": {
        "id": "avO3IBO7IuF2"
      },
      "source": [
        "## Red Card"
      ]
    },
    {
      "cell_type": "code",
      "execution_count": 281,
      "metadata": {
        "id": "JXu1LTKDIuF2"
      },
      "outputs": [],
      "source": [
        "def red_card_last_game(df):    \n",
        "    home_points=np.zeros(df.shape[0])\n",
        "    away_points=np.zeros(df.shape[0])\n",
        "    for i in df.index:\n",
        "        home_team=df.loc[i,\"HomeTeam\"]\n",
        "        away_team=df.loc[i,\"AwayTeam\"]\n",
        "        temp1=df.groupby([\"AwayTeam\"]).get_group((f\"{home_team}\"))[\"AR\"]\n",
        "        temp2=df.groupby([\"HomeTeam\"]).get_group((f\"{home_team}\"))[\"HR\"]\n",
        "        temp3=pd.concat([temp1,temp2]).sort_index()\n",
        "        temp4=temp3.loc[temp3.index[0]:i]\n",
        "        temp5=temp4.loc[temp4.index[0]:temp4.index[len(temp4)-2]]\n",
        "        if len(temp5)==1:\n",
        "            home_points[i]=0\n",
        "        else:\n",
        "            home_points[i]=temp5.loc[temp5.index[len(temp5)-1]]\n",
        "        temp5=df.groupby([\"AwayTeam\"]).get_group((f\"{away_team}\"))[\"AR\"]\n",
        "        temp6=df.groupby([\"HomeTeam\"]).get_group((f\"{away_team}\"))[\"HR\"]\n",
        "        temp7=pd.concat([temp5,temp6]).sort_index()\n",
        "        temp8=temp7.loc[temp7.index[0]:i]\n",
        "        temp9=temp8.loc[temp8.index[0]:temp8.index[len(temp8)-2]]\n",
        "        if len(temp9)==1:\n",
        "            away_points[i]=0\n",
        "        else:\n",
        "            away_points[i]=temp9.loc[temp9.index[len(temp9)-1]]\n",
        "    return pd.DataFrame({\"home red card in last match\":home_points,\"away red card in last match\":away_points})"
      ]
    },
    {
      "cell_type": "code",
      "execution_count": 282,
      "metadata": {
        "id": "G_b4sMzeIuF3"
      },
      "outputs": [],
      "source": [
        "red_card_last_game_2009_10=red_card_last_game(df_2009_10)\n",
        "red_card_last_game_2010_11=red_card_last_game(df_2010_11)\n",
        "red_card_last_game_2011_12=red_card_last_game(df_2011_12)\n",
        "red_card_last_game_2012_13=red_card_last_game(df_2012_13)\n",
        "red_card_last_game_2013_14=red_card_last_game(df_2013_14)\n",
        "red_card_last_game_2014_15=red_card_last_game(df_2014_15)\n",
        "red_card_last_game_2015_16=red_card_last_game(df_2015_16)\n",
        "red_card_last_game_2016_17=red_card_last_game(df_2016_17)\n",
        "red_card_last_game_2017_18=red_card_last_game(df_2017_18)\n",
        "red_card_last_game_2018_19=red_card_last_game(df_2018_19)\n",
        "red_card_last_game_2019_20=red_card_last_game(df_2019_20)"
      ]
    },
    {
      "attachments": {},
      "cell_type": "markdown",
      "metadata": {
        "id": "QnZ6CplpIuF3"
      },
      "source": [
        "## Bet and Win"
      ]
    },
    {
      "cell_type": "code",
      "execution_count": 284,
      "metadata": {
        "id": "ps_SbWOQIuF3"
      },
      "outputs": [],
      "source": [
        "def bw(df):\n",
        "    BW=df[['BWH','BWA',\"BWD\"]]\n",
        "    return BW"
      ]
    },
    {
      "cell_type": "code",
      "execution_count": 285,
      "metadata": {
        "id": "oZR3kMqrIuF3"
      },
      "outputs": [],
      "source": [
        "bw_2009_10=bw(df_2009_10)\n",
        "bw_2010_11=bw(df_2010_11)\n",
        "bw_2011_12=bw(df_2011_12)\n",
        "bw_2012_13=bw(df_2012_13)\n",
        "bw_2013_14=bw(df_2013_14)\n",
        "bw_2014_15=bw(df_2014_15)\n",
        "bw_2015_16=bw(df_2015_16)\n",
        "bw_2016_17=bw(df_2016_17)\n",
        "bw_2017_18=bw(df_2017_18)\n",
        "bw_2018_19=bw(df_2018_19)\n",
        "bw_2019_20=bw(df_2019_20)"
      ]
    },
    {
      "attachments": {},
      "cell_type": "markdown",
      "metadata": {
        "id": "XzAB3kZahWNM"
      },
      "source": [
        "## Shots on Target"
      ]
    },
    {
      "cell_type": "code",
      "execution_count": 287,
      "metadata": {
        "id": "Qx0ftgRNhlvk"
      },
      "outputs": [],
      "source": [
        "def shots_on_target(df):    \n",
        "    home_points=np.zeros(df.shape[0])\n",
        "    away_points=np.zeros(df.shape[0])\n",
        "    for i in df.index:\n",
        "        home_team=df.loc[i,\"HomeTeam\"]\n",
        "        away_team=df.loc[i,\"AwayTeam\"]\n",
        "        temp1=df.groupby([\"AwayTeam\"]).get_group((f\"{home_team}\"))[\"AST\"]\n",
        "        temp2=df.groupby([\"HomeTeam\"]).get_group((f\"{home_team}\"))[\"HST\"]\n",
        "        temp3=pd.concat([temp1,temp2]).sort_index()\n",
        "        temp4=temp3.loc[temp3.index[0]:i]\n",
        "        temp5=temp4.loc[temp4.index[0]:temp4.index[len(temp4)-2]]\n",
        "        if len(temp5)==1:\n",
        "            home_points[i]=0\n",
        "        else:\n",
        "            home_points[i]=temp5.sum()\n",
        "        temp5=df.groupby([\"AwayTeam\"]).get_group((f\"{away_team}\"))[\"AST\"]\n",
        "        temp6=df.groupby([\"HomeTeam\"]).get_group((f\"{away_team}\"))[\"HST\"]\n",
        "        temp7=pd.concat([temp5,temp6]).sort_index()\n",
        "        temp8=temp7.loc[temp7.index[0]:i]\n",
        "        temp9=temp8.loc[temp8.index[0]:temp8.index[len(temp8)-2]]\n",
        "        if len(temp9)==1:\n",
        "            away_points[i]=0\n",
        "        else:\n",
        "            away_points[i]=temp9.sum()\n",
        "    return pd.DataFrame({\"home shots on target\":home_points,\"away shots on target\":away_points})"
      ]
    },
    {
      "cell_type": "code",
      "execution_count": 288,
      "metadata": {
        "id": "9EeqNXuBhpS4"
      },
      "outputs": [],
      "source": [
        "shots_on_target_2009_10=shots_on_target(df_2009_10)\n",
        "shots_on_target_2010_11=shots_on_target(df_2010_11)\n",
        "shots_on_target_2011_12=shots_on_target(df_2011_12)\n",
        "shots_on_target_2012_13=shots_on_target(df_2012_13)\n",
        "shots_on_target_2013_14=shots_on_target(df_2013_14)\n",
        "shots_on_target_2014_15=shots_on_target(df_2014_15)\n",
        "shots_on_target_2015_16=shots_on_target(df_2015_16)\n",
        "shots_on_target_2016_17=shots_on_target(df_2016_17)\n",
        "shots_on_target_2017_18=shots_on_target(df_2017_18)\n",
        "shots_on_target_2018_19=shots_on_target(df_2018_19)\n",
        "shots_on_target_2019_20=shots_on_target(df_2019_20)"
      ]
    },
    {
      "attachments": {},
      "cell_type": "markdown",
      "metadata": {
        "id": "XDG1pmC_IuF4"
      },
      "source": [
        "## Results"
      ]
    },
    {
      "cell_type": "code",
      "execution_count": 290,
      "metadata": {
        "id": "YNw2jL-QIuF4"
      },
      "outputs": [],
      "source": [
        "def result(df):\n",
        "    result=df[[\"FTR\"]].replace({\"H\":1,\"A\":-1,\"D\":0})\n",
        "    return result"
      ]
    },
    {
      "cell_type": "code",
      "execution_count": 291,
      "metadata": {
        "id": "BJIvA-HiIuF7"
      },
      "outputs": [],
      "source": [
        "result_2009_10=result(df_2009_10)\n",
        "result_2010_11=result(df_2010_11)\n",
        "result_2011_12=result(df_2011_12)\n",
        "result_2012_13=result(df_2012_13)\n",
        "result_2013_14=result(df_2013_14)\n",
        "result_2014_15=result(df_2014_15)\n",
        "result_2015_16=result(df_2015_16)\n",
        "result_2016_17=result(df_2016_17)\n",
        "result_2017_18=result(df_2017_18)\n",
        "result_2018_19=result(df_2018_19)\n",
        "result_2019_20=result(df_2019_20)"
      ]
    },
    {
      "attachments": {},
      "cell_type": "markdown",
      "metadata": {
        "id": "sWnZ6yHIIuF8"
      },
      "source": [
        "## Final Dataframe"
      ]
    },
    {
      "cell_type": "code",
      "execution_count": 292,
      "metadata": {
        "id": "Eu9YC0-aIuF8"
      },
      "outputs": [],
      "source": [
        "df_final_2009_10=pd.concat([bet365_2009_10,home_away_goals_2009_10,form_2009_10,points_2009_10,goals_conceded_2009_10,red_card_last_game_2009_10,bw_2009_10,result_2009_10, shots_on_target_2009_10],axis=1)\n",
        "df_final_2010_11=pd.concat([bet365_2010_11,home_away_goals_2010_11,form_2010_11,points_2010_11,goals_conceded_2010_11,red_card_last_game_2010_11,bw_2010_11,result_2010_11, shots_on_target_2010_11],axis=1)\n",
        "df_final_2011_12=pd.concat([bet365_2011_12,home_away_goals_2011_12,form_2011_12,points_2011_12,goals_conceded_2011_12,red_card_last_game_2011_12,bw_2011_12,result_2011_12, shots_on_target_2011_12],axis=1)\n",
        "df_final_2012_13=pd.concat([bet365_2012_13,home_away_goals_2012_13,form_2012_13,points_2012_13,goals_conceded_2012_13,red_card_last_game_2012_13,bw_2012_13,result_2012_13, shots_on_target_2012_13],axis=1)\n",
        "df_final_2013_14=pd.concat([bet365_2013_14,home_away_goals_2013_14,form_2013_14,points_2013_14,goals_conceded_2013_14,red_card_last_game_2013_14,bw_2013_14,result_2013_14, shots_on_target_2013_14],axis=1)\n",
        "df_final_2014_15=pd.concat([bet365_2014_15,home_away_goals_2014_15,form_2014_15,points_2014_15,goals_conceded_2014_15,red_card_last_game_2014_15,bw_2014_15,result_2014_15, shots_on_target_2014_15],axis=1)\n",
        "df_final_2015_16=pd.concat([bet365_2015_16,home_away_goals_2015_16,form_2015_16,points_2015_16,goals_conceded_2015_16,red_card_last_game_2015_16,bw_2015_16,result_2015_16, shots_on_target_2015_16],axis=1)\n",
        "df_final_2016_17=pd.concat([bet365_2016_17,home_away_goals_2016_17,form_2016_17,points_2016_17,goals_conceded_2016_17,red_card_last_game_2016_17,bw_2016_17,result_2016_17, shots_on_target_2016_17],axis=1)\n",
        "df_final_2017_18=pd.concat([bet365_2017_18,home_away_goals_2017_18,form_2017_18,points_2017_18,goals_conceded_2017_18,red_card_last_game_2017_18,bw_2017_18,result_2017_18, shots_on_target_2017_18],axis=1)\n",
        "df_final_2018_19=pd.concat([bet365_2018_19,home_away_goals_2018_19,form_2018_19,points_2018_19,goals_conceded_2018_19,red_card_last_game_2018_19,bw_2018_19,result_2018_19, shots_on_target_2018_19],axis=1)\n",
        "df_final_2019_20=pd.concat([bet365_2019_20,home_away_goals_2019_20,form_2019_20,points_2019_20,goals_conceded_2019_20,red_card_last_game_2019_20,bw_2019_20,result_2019_20, shots_on_target_2019_20],axis=1)\n"
      ]
    },
    {
      "cell_type": "code",
      "execution_count": 293,
      "metadata": {
        "id": "iJglYb7SNpKI"
      },
      "outputs": [],
      "source": [
        "x_training=pd.concat([df_final_2009_10,df_final_2010_11,df_final_2011_12,df_final_2012_13,df_final_2013_14,df_final_2014_15,df_final_2015_16])\n",
        "x_test = pd.concat([df_final_2016_17, df_final_2017_18, df_final_2018_19,df_final_2019_20])\n",
        "\n",
        "\n",
        "\n",
        "# x_training['home advantage'] = np.full(x_training.shape[0], 5)\n",
        "# x_training['away disadvantage'] = np.full(x_training.shape[0], 1)\n",
        "# x_test['home advantage'] = np.full(x_test.shape[0], 5)\n",
        "# x_test['away disadvantage'] = np.full(x_test.shape[0], 1)\n",
        "\n",
        "y_training = x_training['FTR']\n",
        "y_test = x_test['FTR']\n",
        "\n",
        "x_training.drop('FTR', inplace = True, axis =1 )\n",
        "x_test.drop('FTR', inplace = True, axis =1 )\n",
        "\n",
        "x_training.reset_index(inplace=True,drop=True)\n",
        "x_test.reset_index(inplace=True, drop = True)\n",
        "y_training.reset_index(inplace = True, drop = True)\n",
        "y_test.reset_index(inplace = True, drop = True)\n",
        "\n",
        "\n",
        "y_training.drop([x_training[x_training.isna().any(axis=1)].index[0]], inplace = True)\n",
        "x_training.dropna(axis = 0, how = 'any', inplace = True)\n",
        "\n"
      ]
    },
    {
      "attachments": {},
      "cell_type": "markdown",
      "metadata": {
        "id": "uecqIOEjiF9J"
      },
      "source": [
        "## Model Predictions\n",
        "\n"
      ]
    },
    {
      "attachments": {},
      "cell_type": "markdown",
      "metadata": {},
      "source": [
        "### kNN Classifier"
      ]
    },
    {
      "cell_type": "code",
      "execution_count": null,
      "metadata": {
        "colab": {
          "base_uri": "https://localhost:8080/",
          "height": 352
        },
        "id": "sdhVBUv6Xrl_",
        "outputId": "ca43e82b-cb8b-425d-ca8e-c875affc19bc"
      },
      "outputs": [],
      "source": [
        "\n",
        "knn_model = KNeighborsClassifier(n_neighbors = 50, metric = 'euclidean')\n",
        "knn_model.fit(x_training, y_training)\n",
        "\n",
        "y_pred_knn = knn_model.predict(x_test)\n",
        "f1_score = sklearn.metrics.f1_score(y_test, y_pred_knn, average = 'macro')\n",
        "classification_accuracy = sklearn.metrics.accuracy_score(y_test, y_pred_knn)\n",
        "confusion_matrix = sklearn.metrics.confusion_matrix(y_test, y_pred_knn)\n",
        "\n",
        "print(\"KNN \\n\")\n",
        "print(\"F1 Score:\", f1_score)\n",
        "print(\"Classification Accuracy:\", classification_accuracy)\n",
        "print(\"Confusion Matrix:\")\n",
        "ax = sns.heatmap(confusion_matrix, annot=True)\n",
        "\n",
        "\n",
        "\n"
      ]
    },
    {
      "attachments": {},
      "cell_type": "markdown",
      "metadata": {},
      "source": [
        "### Logistic Regression"
      ]
    },
    {
      "cell_type": "code",
      "execution_count": null,
      "metadata": {
        "colab": {
          "base_uri": "https://localhost:8080/",
          "height": 353
        },
        "id": "wa-JVJbhXvLX",
        "outputId": "a47c9745-1e04-4c94-bbcb-c394c85e2306"
      },
      "outputs": [],
      "source": [
        "\n",
        "logistic_reg = LogisticRegression(multi_class = 'ovr', max_iter = 1000)\n",
        "logistic_reg.fit(x_training, y_training)\n",
        "y_pred_log = logistic_reg.predict(x_test)\n",
        "\n",
        "confusion_matrix = metrics.confusion_matrix(y_test, y_pred_log)\n",
        "f1_score = metrics.f1_score(y_test, y_pred_log, average = 'macro')\n",
        "classification_accuracy = metrics.accuracy_score(y_test, y_pred_log)\n",
        "\n",
        "print(\"Logistic Regression \\n\")\n",
        "print(\"F1 score: \", f1_score)\n",
        "print(\"Classification Accuracy: \", classification_accuracy)\n",
        "print(\"Confusion Matrix:\")\n",
        "ax = sns.heatmap(confusion_matrix, annot=True)"
      ]
    },
    {
      "attachments": {},
      "cell_type": "markdown",
      "metadata": {},
      "source": [
        "### Naive Bayes"
      ]
    },
    {
      "cell_type": "code",
      "execution_count": null,
      "metadata": {
        "colab": {
          "base_uri": "https://localhost:8080/",
          "height": 354
        },
        "id": "gdW8ROByav6h",
        "outputId": "0a195e6f-6e36-4f0d-f76b-8ce9a94730a6"
      },
      "outputs": [],
      "source": [
        "\n",
        "NB_classifier = MultinomialNB()\n",
        "NB_classifier.fit(x_training, y_training)\n",
        "y_pred_nb = NB_classifier.predict(x_test)\n",
        "\n",
        "confusion_matrix = metrics.confusion_matrix(y_test, y_pred_nb)\n",
        "f1_score = metrics.f1_score(y_test, y_pred_nb, average = 'macro')\n",
        "classification_accuracy = metrics.accuracy_score(y_test, y_pred_nb)\n",
        "\n",
        "print(\"Naive Bayes \\n\")\n",
        "print(\"F1 score: \", f1_score)\n",
        "print(\"Classification Accuracy: \", classification_accuracy)\n",
        "print(\"Confusion Matrix:\")\n",
        "ax = sns.heatmap(confusion_matrix, annot=True)"
      ]
    },
    {
      "attachments": {},
      "cell_type": "markdown",
      "metadata": {},
      "source": [
        "### SVM"
      ]
    },
    {
      "cell_type": "code",
      "execution_count": null,
      "metadata": {
        "colab": {
          "base_uri": "https://localhost:8080/",
          "height": 352
        },
        "id": "a-vTN6lllNq1",
        "outputId": "fcb335f1-ad75-433a-d7bc-bff2b901dbd8"
      },
      "outputs": [],
      "source": [
        "svm_clf = svm.SVC(kernel = 'linear')\n",
        "svm_clf.fit(x_training, y_training)\n",
        "y_pred_svm = svm_clf.predict(x_test)\n",
        "\n",
        "\n",
        "confusion_matrix = metrics.confusion_matrix(y_test, y_pred_svm)\n",
        "f1_score = metrics.f1_score(y_test, y_pred_svm, average = 'macro')\n",
        "classification_accuracy = metrics.accuracy_score(y_test, y_pred_svm)\n",
        "\n",
        "print(\"SVM \\n\")\n",
        "print(\"F1 score: \", f1_score)\n",
        "print(\"Classification Accuracy: \", classification_accuracy)\n",
        "print(\"Confusion Matrix:\")\n",
        "ax = sns.heatmap(confusion_matrix, annot=True)\n"
      ]
    },
    {
      "attachments": {},
      "cell_type": "markdown",
      "metadata": {},
      "source": [
        "### Neural Network"
      ]
    },
    {
      "cell_type": "code",
      "execution_count": null,
      "metadata": {
        "colab": {
          "base_uri": "https://localhost:8080/",
          "height": 352
        },
        "id": "roGG2fOymT9F",
        "outputId": "60974d40-7739-4867-bfc5-e9634fcb8720"
      },
      "outputs": [],
      "source": [
        "\n",
        "mlp_clf = neural_network.MLPClassifier()\n",
        "mlp_clf.fit(x_training, y_training)\n",
        "y_pred_mlp = mlp_clf.predict(x_test)\n",
        "\n",
        "confusion_matrix = metrics.confusion_matrix(y_test, y_pred_mlp)\n",
        "f1_score = metrics.f1_score(y_test, y_pred_mlp, average = 'macro')\n",
        "classification_accuracy = metrics.accuracy_score(y_test, y_pred_mlp)\n",
        "\n",
        "print(\"Neural Network \\n\")\n",
        "print(\"F1 score: \", f1_score)\n",
        "print(\"Classification Accuracy: \", classification_accuracy)\n",
        "print(\"Confusion Matrix:\")\n",
        "ax = sns.heatmap(confusion_matrix, annot=True)\n"
      ]
    }
  ],
  "metadata": {
    "colab": {
      "collapsed_sections": [
        "qFwZGfsxIuFu",
        "0mT3xpD-IuFw",
        "IqVWxUueIuFx",
        "rOeUzRL4IuFz",
        "lpvMPTBSIuF1",
        "avO3IBO7IuF2",
        "QnZ6CplpIuF3",
        "XzAB3kZahWNM",
        "XDG1pmC_IuF4",
        "sWnZ6yHIIuF8"
      ],
      "name": "21100089_22100017.ipynb",
      "provenance": []
    },
    "kernelspec": {
      "display_name": "Python 3",
      "language": "python",
      "name": "python3"
    },
    "language_info": {
      "codemirror_mode": {
        "name": "ipython",
        "version": 3
      },
      "file_extension": ".py",
      "mimetype": "text/x-python",
      "name": "python",
      "nbconvert_exporter": "python",
      "pygments_lexer": "ipython3",
      "version": "3.8.3"
    }
  },
  "nbformat": 4,
  "nbformat_minor": 0
}
